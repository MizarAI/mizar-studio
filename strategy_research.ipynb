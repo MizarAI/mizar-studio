{
 "cells": [
  {
   "cell_type": "markdown",
   "metadata": {
    "collapsed": true
   },
   "source": [
    "## Strategy research and development\n",
    "\n",
    "Here is where you can develop, improve, test and publish your strategy"
   ]
  },
  {
   "cell_type": "code",
   "execution_count": null,
   "metadata": {},
   "outputs": [],
   "source": [
    "%load_ext autoreload\n",
    "%autoreload 2"
   ]
  },
  {
   "cell_type": "code",
   "execution_count": null,
   "metadata": {},
   "outputs": [],
   "source": [
    "from IPython.core.display import display, HTML\n",
    "display(HTML(\"<style>.container { width:100% !important; }</style>\"))"
   ]
  },
  {
   "cell_type": "code",
   "execution_count": null,
   "metadata": {},
   "outputs": [],
   "source": [
    "from mizar import Mizar\n",
    "from mizar.studio import MizarStudio\n",
    "\n",
    "from matplotlib import pyplot as plt\n",
    "\n",
    "plt.rcParams['figure.figsize'] = [12, 8]\n",
    "plt.rcParams['figure.dpi'] = 100 # 200 e.g. is really fine, but slower"
   ]
  },
  {
   "cell_type": "code",
   "execution_count": null,
   "metadata": {},
   "outputs": [],
   "source": [
    "mizar = Mizar()\n",
    "mizar_studio = MizarStudio(mizar)"
   ]
  },
  {
   "cell_type": "code",
   "execution_count": null,
   "metadata": {},
   "outputs": [],
   "source": [
    "base_asset = \"\" # select the base asset e.g. BTC, ETH, LINK\n",
    "quote_asset = \"\" # select the quote asset e.g. USDT (currently mizar supports only USDT)\n",
    "bar_type = \"\" # select the type of bar (dollar, tick, volume, time)\n",
    "bar_subclass = \"\" # select the bar subclass (dynamic, 5m, 15m, 30m etc...)"
   ]
  },
  {
   "cell_type": "code",
   "execution_count": null,
   "metadata": {},
   "outputs": [],
   "source": [
    "bars_df = mizar_studio.get_bar_df(\n",
    "    base_asset=base_asset, \n",
    "    quote_asset=quote_asset, \n",
    "    bar_type=bar_type, \n",
    "    bar_subclass=bar_subclass\n",
    ")"
   ]
  },
  {
   "cell_type": "markdown",
   "metadata": {},
   "source": [
    "### Define the Target"
   ]
  },
  {
   "cell_type": "code",
   "execution_count": null,
   "metadata": {},
   "outputs": [],
   "source": [
    "num_expiration_bars = 0 # number of bars before the position is expired and so closed\n",
    "profit_taking_factor = 0 # factor that multiplies the volatility \n",
    "# of the previous bars in order to dinamically calculate the profit taking value\n",
    "stop_loss_factor = 0  # factor that multiplies the volatility \n",
    "# of the previous bars in order to dinamically calculate the stop loss value\n",
    "expiration_label = False  # whether the samples that hit the expiration bar are labeled \n",
    "\n",
    "\n",
    "target_labeler = TripleBarrierMethodLabeling(\n",
    "    num_expiration_bars=num_expiration_bars, \n",
    "    profit_taking_factor=profit_taking_factor, \n",
    "    stop_loss_factor=stop_loss_factor,\n",
    "    expiration_label=expiration_label)\n",
    "target_labels_triple_barrier = target_labeler.transform(bars_df).dropna()"
   ]
  },
  {
   "cell_type": "markdown",
   "metadata": {},
   "source": [
    "### Primary Model"
   ]
  },
  {
   "cell_type": "code",
   "execution_count": null,
   "metadata": {},
   "outputs": [],
   "source": [
    "# Build your primary model based on technical indicators, fundamental indicators or/and machine learning.\n",
    "\n",
    "primary_model = "
   ]
  },
  {
   "cell_type": "markdown",
   "metadata": {},
   "source": [
    "### Metalabeling model\n",
    "The metalabeling model is based on machine learning and can help to increase the accuracy of your strategy"
   ]
  },
  {
   "cell_type": "code",
   "execution_count": null,
   "metadata": {},
   "outputs": [],
   "source": [
    "metalabel_model = "
   ]
  },
  {
   "cell_type": "markdown",
   "metadata": {},
   "source": [
    "### Strategy Signal Pipelie\n",
    "The Strategy Signal Pipeline contains the rules and models to produce the signal for your strategy"
   ]
  },
  {
   "cell_type": "code",
   "execution_count": null,
   "metadata": {},
   "outputs": [],
   "source": [
    "pipeline = StrategySignalPipeline(\n",
    "    \n",
    "\n",
    ")"
   ]
  },
  {
   "cell_type": "markdown",
   "metadata": {},
   "source": [
    "### Strategy Trader\n",
    "The Strategy Trader contains all the info and rules needed to run the strategy in Mizar"
   ]
  },
  {
   "cell_type": "markdown",
   "metadata": {},
   "source": [
    "strategy_trader = StrategyTrader(\n",
    "\n",
    "    \n",
    ")"
   ]
  },
  {
   "cell_type": "markdown",
   "metadata": {},
   "source": [
    "### Save the strategy in Mizar"
   ]
  },
  {
   "cell_type": "code",
   "execution_count": null,
   "metadata": {},
   "outputs": [],
   "source": [
    "mizar_studio.save_strategy(\n",
    "    strategy=strategy_trader,\n",
    "    strategy_file=\"./strategy/.py\",\n",
    "    strategy_name=\"My strategy\",\n",
    "    strategy_description=\"My strategy works in this way\"\n",
    ")"
   ]
  }
 ],
 "metadata": {
  "hide_input": false,
  "kernelspec": {
   "display_name": "Python 3",
   "language": "python",
   "name": "python3"
  },
  "language_info": {
   "codemirror_mode": {
    "name": "ipython",
    "version": 3
   },
   "file_extension": ".py",
   "mimetype": "text/x-python",
   "name": "python",
   "nbconvert_exporter": "python",
   "pygments_lexer": "ipython3",
   "version": "3.6.9"
  },
  "toc": {
   "base_numbering": 1,
   "nav_menu": {},
   "number_sections": true,
   "sideBar": true,
   "skip_h1_title": false,
   "title_cell": "Table of Contents",
   "title_sidebar": "Contents",
   "toc_cell": false,
   "toc_position": {},
   "toc_section_display": true,
   "toc_window_display": false
  },
  "varInspector": {
   "cols": {
    "lenName": 16,
    "lenType": 16,
    "lenVar": 40
   },
   "kernels_config": {
    "python": {
     "delete_cmd_postfix": "",
     "delete_cmd_prefix": "del ",
     "library": "var_list.py",
     "varRefreshCmd": "print(var_dic_list())"
    },
    "r": {
     "delete_cmd_postfix": ") ",
     "delete_cmd_prefix": "rm(",
     "library": "var_list.r",
     "varRefreshCmd": "cat(var_dic_list()) "
    }
   },
   "types_to_exclude": [
    "module",
    "function",
    "builtin_function_or_method",
    "instance",
    "_Feature"
   ],
   "window_display": false
  }
 },
 "nbformat": 4,
 "nbformat_minor": 1
}